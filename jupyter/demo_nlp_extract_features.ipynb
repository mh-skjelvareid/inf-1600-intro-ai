{
 "cells": [
  {
   "cell_type": "markdown",
   "id": "f45643ac",
   "metadata": {},
   "source": [
    "# Demo - simple NLP processing"
   ]
  },
  {
   "cell_type": "code",
   "execution_count": null,
   "id": "ad5104b6",
   "metadata": {},
   "outputs": [],
   "source": [
    "# Imports\n",
    "import spacy\n",
    "from IPython.display import HTML, display\n",
    "from spacy import displacy"
   ]
  },
  {
   "cell_type": "code",
   "execution_count": null,
   "id": "cda7f524",
   "metadata": {},
   "outputs": [],
   "source": [
    "# Download (medium) English model\n",
    "if not spacy.util.is_package(\"en_core_web_md\"):\n",
    "    !python -m spacy download en_core_web_md"
   ]
  },
  {
   "cell_type": "code",
   "execution_count": null,
   "id": "63ceb41d",
   "metadata": {},
   "outputs": [],
   "source": [
    "# Create NLP object (language model)\n",
    "nlp = spacy.load(\"en_core_web_md\")"
   ]
  },
  {
   "cell_type": "markdown",
   "id": "b3c88289",
   "metadata": {},
   "source": [
    "## Insert your own text\n",
    "Use anything - wikipedia article, news, chat messages, whatever. Replace the text inside the triple quotes with your own."
   ]
  },
  {
   "cell_type": "code",
   "execution_count": null,
   "id": "42c3378f",
   "metadata": {},
   "outputs": [],
   "source": [
    "text = \"\"\" \n",
    "    The number of permanent members should be increased at the Security Council. \n",
    "    At least, there should be two new seats for Asia, two for Africa and one \n",
    "    for Latin America. No single state should have veto power. And, if a \n",
    "    member of the Security Council violates the UN Charter, its voting rights \n",
    "    should be suspended.\n",
    "\"\"\""
   ]
  },
  {
   "cell_type": "markdown",
   "id": "ca87fad3",
   "metadata": {},
   "source": [
    "## Process / visualize text"
   ]
  },
  {
   "cell_type": "code",
   "execution_count": null,
   "id": "f58ba4e3",
   "metadata": {},
   "outputs": [],
   "source": [
    "# Remove newlines, tabs, extra spaces\n",
    "text = \" \".join(text.split())\n",
    "print(text)"
   ]
  },
  {
   "cell_type": "code",
   "execution_count": null,
   "id": "5f515574",
   "metadata": {},
   "outputs": [],
   "source": [
    "# Process the text with spaCy\n",
    "doc = nlp(text)"
   ]
  },
  {
   "cell_type": "code",
   "execution_count": null,
   "id": "145cbc01",
   "metadata": {},
   "outputs": [],
   "source": [
    "# Visualize named entities in the document\n",
    "display(HTML(displacy.render(doc, style=\"ent\", jupyter=False)))"
   ]
  },
  {
   "cell_type": "code",
   "execution_count": null,
   "id": "5b4d2dfd",
   "metadata": {},
   "outputs": [],
   "source": [
    "# Show word POS tags and dependencies for the first sentence\n",
    "first_sentence = next(doc.sents)\n",
    "display(\n",
    "    HTML(\n",
    "        displacy.render(\n",
    "            first_sentence, style=\"dep\", jupyter=False, options={\"compact\": False}\n",
    "        )\n",
    "    )\n",
    ")"
   ]
  },
  {
   "cell_type": "code",
   "execution_count": null,
   "id": "b015508b",
   "metadata": {},
   "outputs": [],
   "source": [
    "# Find all the adjectives in the text\n",
    "adjectives = [token.text for token in doc if token.pos_ == \"ADJ\"]\n",
    "print(\"Adjectives in the text:\")\n",
    "print(adjectives)"
   ]
  },
  {
   "cell_type": "code",
   "execution_count": null,
   "id": "fb099898",
   "metadata": {},
   "outputs": [],
   "source": [
    "# Print text without stop words or punctuation, in lower case\n",
    "filtered_text = \" \".join(\n",
    "    [token.text.lower() for token in doc if not (token.is_stop or token.is_punct)]\n",
    ")\n",
    "\n",
    "print(\"Filtered text:\")\n",
    "print(filtered_text)"
   ]
  }
 ],
 "metadata": {
  "kernelspec": {
   "display_name": "inf-1600-intro-ai",
   "language": "python",
   "name": "python3"
  },
  "language_info": {
   "codemirror_mode": {
    "name": "ipython",
    "version": 3
   },
   "file_extension": ".py",
   "mimetype": "text/x-python",
   "name": "python",
   "nbconvert_exporter": "python",
   "pygments_lexer": "ipython3",
   "version": "3.13.7"
  }
 },
 "nbformat": 4,
 "nbformat_minor": 5
}
