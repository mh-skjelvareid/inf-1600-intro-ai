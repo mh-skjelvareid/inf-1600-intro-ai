{
 "cells": [
  {
   "cell_type": "code",
   "execution_count": 1,
   "id": "11706a63",
   "metadata": {},
   "outputs": [],
   "source": [
    "# Imports\n",
    "import matplotlib.pyplot as plt\n",
    "import numpy as np\n",
    "import plotly.express as px\n",
    "import plotly.graph_objects as go\n",
    "import polars as pl\n",
    "from plotly.subplots import make_subplots"
   ]
  },
  {
   "cell_type": "code",
   "execution_count": 2,
   "id": "8a017a6c",
   "metadata": {},
   "outputs": [],
   "source": [
    "# Read noisy heart rate data\n",
    "df = pl.read_csv(\"noisy_heart_rate_time_series.csv\")\n",
    "time = df[\"t\"].to_numpy()\n",
    "hr_accurate_orig = df[\"heart_rate_accurate\"].to_numpy()\n",
    "hr_noisy_orig = df[\"heart_rate_noisy\"].to_numpy()\n"
   ]
  },
  {
   "cell_type": "code",
   "execution_count": 3,
   "id": "56db2196",
   "metadata": {},
   "outputs": [],
   "source": [
    "# Normalize data\n",
    "hr_accurate_mean = np.mean(hr_accurate_orig)\n",
    "hr_accurate_std = np.std(hr_accurate_orig)\n",
    "hr_accurate = (hr_accurate_orig - hr_accurate_mean) / hr_accurate_std\n",
    "hr_noisy = (hr_noisy_orig - hr_accurate_mean) / hr_accurate_std"
   ]
  },
  {
   "cell_type": "code",
   "execution_count": 4,
   "id": "6832a475",
   "metadata": {},
   "outputs": [
    {
     "data": {
      "application/vnd.plotly.v1+json": {
       "config": {
        "plotlyServerURL": "https://plot.ly"
       },
       "data": [
        {
         "mode": "lines",
         "name": "Accurate",
         "type": "scatter",
         "x": {
          "bdata": "AAABAAIAAwAEAAUABgAHAAgACQAKAAsADAANAA4ADwAQABEAEgATABQAFQAWABcAGAAZABoAGwAcAB0AHgAfACAAIQAiACMAJAAlACYAJwAoACkAKgArACwALQAuAC8AMAAxADIAMwA0ADUANgA3ADgAOQA6ADsAPAA9AD4APwBAAEEAQgBDAEQARQBGAEcASABJAEoASwBMAE0ATgBPAFAAUQBSAFMAVABVAFYAVwBYAFkAWgBbAFwAXQBeAF8AYABhAGIAYwBkAGUAZgBnAGgAaQBqAGsAbABtAG4AbwBwAHEAcgBzAHQAdQB2AHcAeAB5AHoAewB8AH0AfgB/AIAAgQCCAIMAhACFAIYAhwCIAIkAigCLAIwAjQCOAI8AkACRAJIAkwCUAJUAlgCXAJgAmQCaAJsAnACdAJ4AnwCgAKEAogCjAKQApQCmAKcAqACpAKoAqwCsAK0ArgCvALAAsQCyALMAtAC1ALYAtwC4ALkAugC7ALwAvQC+AL8AwADBAMIAwwDEAMUAxgDHAMgAyQDKAMsAzADNAM4AzwDQANEA0gDTANQA1QDWANcA2ADZANoA2wDcAN0A3gDfAOAA4QDiAOMA5ADlAOYA5wDoAOkA6gDrAOwA7QDuAO8A8ADxAPIA8wD0APUA9gD3APgA+QD6APsA/AD9AP4A/wAAAQEBAgEDAQQBBQEGAQcBCAEJAQoBCwEMAQ0BDgEPARABEQESARMBFAEVARYBFwEYARkBGgEbARwBHQEeAR8BIAEhASIBIwEkASUBJgEnASgBKQEqASsBLAEtAS4BLwEwATEBMgEzATQBNQE2ATcBOAE5AToBOwE8AT0BPgE/AUABQQFCAUMBRAFFAUYBRwFIAUkBSgFLAUwBTQFOAU8BUAFRAVIBUwFUAVUBVgFXAVgBWQFaAVsBXAFdAV4BXwFgAWEBYgFjAWQBZQFmAWcBaAFpAWoBawFsAW0BbgFvAXABcQFyAXMBdAF1AXYBdwF4AXkBegF7AXwBfQF+AX8BgAGBAYIBgwGEAYUBhgGHAYgBiQGKAYsBjAGNAY4BjwGQAZEBkgGTAZQBlQGWAZcBmAGZAZoBmwGcAZ0BngGfAaABoQGiAaMBpAGlAaYBpwGoAakBqgGrAawBrQGuAa8BsAGxAbIBswG0AbUBtgG3AbgBuQG6AbsBvAG9Ab4BvwHAAcEBwgHDAcQBxQHGAccByAHJAcoBywHMAc0BzgHPAdAB0QHSAdMB1AHVAdYB1wHYAdkB2gHbAdwB3QHeAd8B4AHhAeIB4wHkAeUB5gHnAegB6QHqAesB7AHtAe4B7wHwAfEB8gHzAQ==",
          "dtype": "i2"
         },
         "xaxis": "x",
         "y": {
          "bdata": "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",
          "dtype": "f8"
         },
         "yaxis": "y"
        },
        {
         "mode": "lines",
         "name": "Noisy",
         "type": "scatter",
         "x": {
          "bdata": "AAABAAIAAwAEAAUABgAHAAgACQAKAAsADAANAA4ADwAQABEAEgATABQAFQAWABcAGAAZABoAGwAcAB0AHgAfACAAIQAiACMAJAAlACYAJwAoACkAKgArACwALQAuAC8AMAAxADIAMwA0ADUANgA3ADgAOQA6ADsAPAA9AD4APwBAAEEAQgBDAEQARQBGAEcASABJAEoASwBMAE0ATgBPAFAAUQBSAFMAVABVAFYAVwBYAFkAWgBbAFwAXQBeAF8AYABhAGIAYwBkAGUAZgBnAGgAaQBqAGsAbABtAG4AbwBwAHEAcgBzAHQAdQB2AHcAeAB5AHoAewB8AH0AfgB/AIAAgQCCAIMAhACFAIYAhwCIAIkAigCLAIwAjQCOAI8AkACRAJIAkwCUAJUAlgCXAJgAmQCaAJsAnACdAJ4AnwCgAKEAogCjAKQApQCmAKcAqACpAKoAqwCsAK0ArgCvALAAsQCyALMAtAC1ALYAtwC4ALkAugC7ALwAvQC+AL8AwADBAMIAwwDEAMUAxgDHAMgAyQDKAMsAzADNAM4AzwDQANEA0gDTANQA1QDWANcA2ADZANoA2wDcAN0A3gDfAOAA4QDiAOMA5ADlAOYA5wDoAOkA6gDrAOwA7QDuAO8A8ADxAPIA8wD0APUA9gD3APgA+QD6APsA/AD9AP4A/wAAAQEBAgEDAQQBBQEGAQcBCAEJAQoBCwEMAQ0BDgEPARABEQESARMBFAEVARYBFwEYARkBGgEbARwBHQEeAR8BIAEhASIBIwEkASUBJgEnASgBKQEqASsBLAEtAS4BLwEwATEBMgEzATQBNQE2ATcBOAE5AToBOwE8AT0BPgE/AUABQQFCAUMBRAFFAUYBRwFIAUkBSgFLAUwBTQFOAU8BUAFRAVIBUwFUAVUBVgFXAVgBWQFaAVsBXAFdAV4BXwFgAWEBYgFjAWQBZQFmAWcBaAFpAWoBawFsAW0BbgFvAXABcQFyAXMBdAF1AXYBdwF4AXkBegF7AXwBfQF+AX8BgAGBAYIBgwGEAYUBhgGHAYgBiQGKAYsBjAGNAY4BjwGQAZEBkgGTAZQBlQGWAZcBmAGZAZoBmwGcAZ0BngGfAaABoQGiAaMBpAGlAaYBpwGoAakBqgGrAawBrQGuAa8BsAGxAbIBswG0AbUBtgG3AbgBuQG6AbsBvAG9Ab4BvwHAAcEBwgHDAcQBxQHGAccByAHJAcoBywHMAc0BzgHPAdAB0QHSAdMB1AHVAdYB1wHYAdkB2gHbAdwB3QHeAd8B4AHhAeIB4wHkAeUB5gHnAegB6QHqAesB7AHtAe4B7wHwAfEB8gHzAQ==",
          "dtype": "i2"
         },
         "xaxis": "x",
         "y": {
          "bdata": "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",
          "dtype": "f8"
         },
         "yaxis": "y"
        },
        {
         "mode": "lines",
         "name": "Accurate",
         "type": "scatter",
         "x": {
          "bdata": "AAABAAIAAwAEAAUABgAHAAgACQAKAAsADAANAA4ADwAQABEAEgATABQAFQAWABcAGAAZABoAGwAcAB0AHgAfACAAIQAiACMAJAAlACYAJwAoACkAKgArACwALQAuAC8AMAAxADIAMwA0ADUANgA3ADgAOQA6ADsAPAA9AD4APwBAAEEAQgBDAEQARQBGAEcASABJAEoASwBMAE0ATgBPAFAAUQBSAFMAVABVAFYAVwBYAFkAWgBbAFwAXQBeAF8AYABhAGIAYwBkAGUAZgBnAGgAaQBqAGsAbABtAG4AbwBwAHEAcgBzAHQAdQB2AHcAeAB5AHoAewB8AH0AfgB/AIAAgQCCAIMAhACFAIYAhwCIAIkAigCLAIwAjQCOAI8AkACRAJIAkwCUAJUAlgCXAJgAmQCaAJsAnACdAJ4AnwCgAKEAogCjAKQApQCmAKcAqACpAKoAqwCsAK0ArgCvALAAsQCyALMAtAC1ALYAtwC4ALkAugC7ALwAvQC+AL8AwADBAMIAwwDEAMUAxgDHAMgAyQDKAMsAzADNAM4AzwDQANEA0gDTANQA1QDWANcA2ADZANoA2wDcAN0A3gDfAOAA4QDiAOMA5ADlAOYA5wDoAOkA6gDrAOwA7QDuAO8A8ADxAPIA8wD0APUA9gD3APgA+QD6APsA/AD9AP4A/wAAAQEBAgEDAQQBBQEGAQcBCAEJAQoBCwEMAQ0BDgEPARABEQESARMBFAEVARYBFwEYARkBGgEbARwBHQEeAR8BIAEhASIBIwEkASUBJgEnASgBKQEqASsBLAEtAS4BLwEwATEBMgEzATQBNQE2ATcBOAE5AToBOwE8AT0BPgE/AUABQQFCAUMBRAFFAUYBRwFIAUkBSgFLAUwBTQFOAU8BUAFRAVIBUwFUAVUBVgFXAVgBWQFaAVsBXAFdAV4BXwFgAWEBYgFjAWQBZQFmAWcBaAFpAWoBawFsAW0BbgFvAXABcQFyAXMBdAF1AXYBdwF4AXkBegF7AXwBfQF+AX8BgAGBAYIBgwGEAYUBhgGHAYgBiQGKAYsBjAGNAY4BjwGQAZEBkgGTAZQBlQGWAZcBmAGZAZoBmwGcAZ0BngGfAaABoQGiAaMBpAGlAaYBpwGoAakBqgGrAawBrQGuAa8BsAGxAbIBswG0AbUBtgG3AbgBuQG6AbsBvAG9Ab4BvwHAAcEBwgHDAcQBxQHGAccByAHJAcoBywHMAc0BzgHPAdAB0QHSAdMB1AHVAdYB1wHYAdkB2gHbAdwB3QHeAd8B4AHhAeIB4wHkAeUB5gHnAegB6QHqAesB7AHtAe4B7wHwAfEB8gHzAQ==",
          "dtype": "i2"
         },
         "xaxis": "x2",
         "y": {
          "bdata": "AAAAAAAAAACzb3pyHzOjv7NvenIfM7O/lefHseqrvL/az5K7+AHDvxIMWmfVfMe/Tmgp1k/ny79ZkgjHURDQv62wDCk3DNK/Fv+cL4nv07+VjT28FrLVvzdc7s7fU9e/8XozSbPM2L/R6QwrkRzav9aoenR5Q9u/A8gABzs53L9kR5/i1f3cv+AmVgdKkd2/k3apVmbr3b97JhXvWxTev302mdAqDN6/ucY9vnDC3b8rx37WXj/dv8c3XBn1gty/mAhSpWSV27+YaeweGl7av8wqn+Go9di/N1zuzt9T17/ODV7IjXDVv40f5goVXNO/g6EKeEQO0b9fJ5cfOA7Nv+/LSeGZnce/5zAtNa7Kwb9m7JK8JQq3vydvOVoxtqO/tPHf9zxikD9IsMsQSY+yP6jxnt9O5cA/Bau/7R+0yD8M4lsWbmrQP46+S5Ffk9Q/4ForhhXd2D8t1wK4LTfdP7sZaRPU0OA/z6+K+FoS4z/jRazd4VPlP/bTC1KBmec/CFqpVTnj6T8U6AjK2CjsPyd2aD54bu4/IQbFkf9X8D8w3XgtnnLxP0O4jYEwi/I/V5/F/p2d8z90kiCl5qn0P5aV/yz+rfU/wqzDTtin9j/2z6qZjZv3PzAL2Db5gvg/dFrqbSdg+T/FxaOv/y76Px1FQoua8/o/guCHcd+p+z/1l3RizlH8P3RvaRZb6fw//2IF1ZFy/T+adqlWZuv9Pz+qVZvYU/4/+QFrW9yp/j+5eYjefe/+P40VD92wIv8/d9X+VnVD/z9puVdMy1H/P2rBGb2yTf8/ge1EqSs3/z+gPdkQNg7/P9Sx1vPR0v4/F0o9Uv+E/j9pBg0sviT+P8rmRYEOsv0/OuvnUfAs/T+4D5Llb5f8P0dURDyN8fs/4rj+VUg7+z+IPcEyoXT6Pz/ii9KXnfk/AJ+cxES6+D/Qe7V5j8b3P6lwFIGQxvY/jHlYIlS89T95nkPOwaP0P2/Tslv+gvM/byBoO/FV8j90eUBEvyLxPwPN+82fyu8/Kr+8ZXdD7T9SwQHfHbTqP4vbjKp6GOg/xwWcV6Z05T8IMKsE0tDiP0xqPpPMJOA/IUmjQ47x2j+nrUV/tKHVPx8S6LraUdA/Rs0MKmQUxj8WLGIqc2y3P3PsUaQ3jYc/PzFuTZxHsb9N0NPT5n7CvyYIEY12GMy/E1Czx2/A0r88fPaRfUPXv4foSeLGpdu/+rS1e+nW37/C6Fo+i+/hvyovKdT11uO/n6WDDs2l5b8oTGrtEFznv9QyYVKQ8ei/lFGmzGNq6r9qqDlci8brv1s3GwEHBu2/aQYNLL4k7r+NFQ/dsCLvv9RkIRTf/++/GfqhaCRe8L/VXdpRA67wv6Ple7Zz6/C/eYnEJY4a8b9gTRVYRjnxv1Mxbk2cR/G/UzFuTZxH8b9hUXYQOjfxv32NJd6BGPG/o+V7tnPr8L/UVRjhG7Lwvw/iWxZuavC/V4blnXYW8L9ShWrvamzvvwgm1NZtl+6/0/bJYt2p7b+o58ex6qvsv4/4zcOVneu/gzGeCcZ66r9/evIwxU/pv43jThtiFOi/pGTxV7XM5r/E9Rd213zlv9+OAAXhKOS/CDCrBNLQ4r804dnlkXDhv1eKRlZqFOC/BnfqblRo3b9LuT9uNrjav537lG0YCNi/0R3iqVxo1b8AICcjA9nSvxvy3/c8YtC/SUghE7L3y781TGrtEFzHv9avivhaEsO/nmYldZfzvb/7LORaT2a2v//lw1AyuK6/ZHD8ovssor/46csSo5+Kvyjsz3Nbk3g/meySvCUKlz9R8NuWhG6iPw3sUaQ3jac/jWhq7j1kqz8854aZ/C6tP7DmRYEOsq0/7ucIytgorD/P6o5bbRapPwFv+EFDOaQ/BumK+rQimz8K7VUF8ICFP2nxXcdgaIG/TeVBIFa+n78854aZ/C6tv1QtJXM947W/YSYV71sUvr+G71lmqHTDv3erAAYOMci/Gad2E8FPzb9IEWaK/lfRv91+fCMSMdS/T6yCNuoq17+7qfykVT3av/RW4qu2eN2/FPLf9zxi4L+sqEq4TxDivzRHbyasyuO/s9UPszmN5b8yZLA/x0/nv67izOqFGum/LGmrBizh6r+q74ki0qfsvyd2aD54bu6/VoKE5YIY8L+b1ffUpPPwv+MszHy6zPG/MJDDTauf8r+C/91Hd2zzv9p+fCMSMfS/Og6f4Hvt9L+irUV/tKH1vxFh0bevS/a/jCyjQmHp9r8ODFpn1Xz3v5wDV97/A/i/NRf7X9R8+L/ZQuUzX+n4v4uO18qHRfm/SPZwbFqT+b8TerEY19L5v+whW0Dl//m/0uWrcp0e+r/IzWUg5yr6v8vVJ5HOJvq/3v3xxFMS+r/+SSV0auv5vy66wZ4Ssvm/bUpmjFho+b+8/nP1Lwz5vxrX6tmYnfi/hc9pgZ8e+L8A7FGkN433v4ck4dF57fa/H4HZek079r/F/dnmvnj1v3ia4hXOpfS/NlOST4fE878EKOmT6tTyv9oY5+L31vG/vCErhLvM8L9TjSxgUmjvv0D/zOuyIu2/R6H5G4DE6r9ba/B/0lHov3pV76bCzuW/ql/2kFA747/riQU+fJfgv2GYtXq8ztu/DE3sHe1V1r+8ISuEu8zQv/YM3Jexdsa/8uzT1BOHtr8AAAAAAAAAAPLs09QTh7Y/9gzcl7F2xj+8ISuEu8zQPwxN7B3tVdY/YZi1erzO2z/riQU+fJfgP6pf9pBQO+M/elXvpsLO5T9ba/B/0lHoP0eh+RuAxOo/QP/M67Ii7T9TjSxgUmjvP7whK4S7zPA/2hjn4vfW8T8EKOmT6tTyPzZTkk+HxPM/eJriFc6l9D/F/dnmvnj1PyGB2XpNO/Y/hyTh0Xnt9j8A7FGkN433P4bPaYGfHvg/GNfq2Zid+D+8/nP1Lwz5P25KZoxYaPk/MLrBnhKy+T//SSV0auv5P9798cRTEvo/y9Unkc4m+j/HzWUg5yr6P9Tlq3KdHvo/7CFbQOX/+T8TerEY19L5P0j2cGxak/k/i47XyodF+T/ZQuUzX+n4PzUX+1/UfPg/mwNX3v8D+D8ODFpn1Xz3P4wso0Jh6fY/E2HRt69L9j+jrUV/tKH1PzoOn+B77fQ/2n58IxIx9D+C/91Hd2zzPzCQw02rn/I/4yzMfLrM8T+b1ffUpPPwP1aChOWCGPA/J3ZoPnhu7j+q74ki0qfsPyxpqwYs4eo/ruLM6oUa6T8yZLA/x0/nP7PVD7M5jeU/NEdvJqzK4z+sqEq4TxDiPxTy3/c8YuA/9Fbiq7Z43T+7qfykVT3aP0+sgjbqKtc/3X58IxIx1D9IEWaK/lfRPxmndhPBT80/d6sABg4xyD+G71lmqHTDP2EmFe9bFL4/VC0lcz3jtT8854aZ/C6tP03lQSBWvp8/afFdx2BogT8K7VUF8ICFvwbpivq0Ipu/AW/4QUM5pL/P6o5bbRapv+7nCMrYKKy/sOZFgQ6yrb8854aZ/C6tv41oau49ZKu/DexRpDeNp79R8NuWhG6iv5nskrwlCpe/KOzPc1uTeL/46csSo5+KP2Rw/KL7LKI//+XDUDK4rj/7LORaT2a2P55mJXWX870/1q+K+FoSwz81TGrtEFzHP0lIIROy98s/G/Lf9zxi0D8AICcjA9nSP9Ed4qlcaNU/nfuUbRgI2D9LuT9uNrjaPwZ36m5UaN0/V4pGVmoU4D804dnlkXDhPwgwqwTS0OI/344ABeEo5D/E9Rd213zlP6Rk8Ve1zOY/jeNOG2IU6D9/evIwxU/pP4MxngnGeuo/j/jNw5Wd6z+o58ex6qvsP9P2yWLdqe0/CCbU1m2X7j9ShWrvamzvP1eG5Z12FvA/D+JbFm5q8D/UVRjhG7LwP6Ple7Zz6/A/fY0l3oEY8T9hUXYQOjfxP1Mxbk2cR/E/UzFuTZxH8T9gTRVYRjnxP3mJxCWOGvE/o+V7tnPr8D/VXdpRA67wPxn6oWgkXvA/1GQhFN//7z+NFQ/dsCLvP2kGDSy+JO4/WzcbAQcG7T9qqDlci8brP5RRpsxjauo/1DJhUpDx6D8oTGrtEFznP5+lgw7NpeU/Ki8p1PXW4z/C6Fo+i+/hP/q0tXvp1t8/h+hJ4sal2z88fPaRfUPXPxNQs8dvwNI/JggRjXYYzD9N0NPT5n7CPz8xbk2cR7E/c+xRpDeNh78WLGIqc2y3v0bNDCpkFMa/HxLoutpR0L+nrUV/tKHVvyFJo0OO8dq/TGo+k8wk4L8IMKsE0tDiv8cFnFemdOW/i9uMqnoY6L9SwQHfHbTqvyq/vGV3Q+2/A837zZ/K7790eUBEvyLxv28gaDvxVfK/b9OyW/6C8795nkPOwaP0v4x5WCJUvPW/qXAUgZDG9r/Qe7V5j8b3vwCfnMREuvi/QeKL0ped+b+JPcEyoXT6v+C4/lVIO/u/RlREPI3x+7+5D5Llb5f8vzrr51HwLP2/yOZFgQ6y/b9oBg0sviT+vxZKPVL/hP6/1LHW89HS/r+hPdkQNg7/v3/tRKkrN/+/bMEZvbJN/79ouVdMy1H/v3TV/lZ1Q/+/kBUP3bAi/7+8eYjefe/+v/YBa1vcqf6/P6pVm9hT/r+YdqlWZuv9v/9iBdWRcv2/dG9pFlvp/L/0l3RizlH8v4Lgh3Hfqfu/HUVCi5rz+r/ExaOv/y76v3Ra6m0nYPm/MAvYNvmC+L/0z6qZjZv3v8Osw07Yp/a/mJX/LP6t9b90kiCl5qn0v1efxf6dnfO/Q7iNgTCL8r8w3XgtnnLxvyEGxZH/V/C/J3ZoPnhu7r8U6AjK2CjsvwhaqVU54+m/9tMLUoGZ57/jRazd4VPlv8+vivhaEuO/uxlpE9TQ4L8t1wK4LTfdv+BaK4YV3di/jr5LkV+T1L8M4lsWbmrQvwWrv+0ftMi/qPGe307lwL9IsMsQSY+yv7Tx3/c8YpC/J285WjG2oz9m7JK8JQq3P+cwLTWuysE/78tJ4Zmdxz9fJ5cfOA7NP4OhCnhEDtE/jR/mChVc0z/ODV7IjXDVPzdc7s7fU9c/zCqf4aj12D+YaeweGl7aP5gIUqVklds/xzdcGfWC3D8rx37WXj/dP7nGPb5wwt0/fTaZ0CoM3j97JhXvWxTeP5N2qVZm690/4CZWB0qR3T9kR5/i1f3cPwPIAAc7Odw/1qh6dHlD2z/R6QwrkRzaP/F6M0mzzNg/N1zuzt9T1z+VjT28FrLVPxb/nC+J79M/rbAMKTcM0j9ZkgjHURDQP05oKdZP58s/EgxaZ9V8xz/az5K7+AHDP5Xnx7Hqq7w/s296ch8zsz+zb3pyHzOjPw==",
          "dtype": "f8"
         },
         "yaxis": "y2"
        },
        {
         "mode": "lines",
         "name": "Noisy",
         "type": "scatter",
         "x": {
          "bdata": "AAABAAIAAwAEAAUABgAHAAgACQAKAAsADAANAA4ADwAQABEAEgATABQAFQAWABcAGAAZABoAGwAcAB0AHgAfACAAIQAiACMAJAAlACYAJwAoACkAKgArACwALQAuAC8AMAAxADIAMwA0ADUANgA3ADgAOQA6ADsAPAA9AD4APwBAAEEAQgBDAEQARQBGAEcASABJAEoASwBMAE0ATgBPAFAAUQBSAFMAVABVAFYAVwBYAFkAWgBbAFwAXQBeAF8AYABhAGIAYwBkAGUAZgBnAGgAaQBqAGsAbABtAG4AbwBwAHEAcgBzAHQAdQB2AHcAeAB5AHoAewB8AH0AfgB/AIAAgQCCAIMAhACFAIYAhwCIAIkAigCLAIwAjQCOAI8AkACRAJIAkwCUAJUAlgCXAJgAmQCaAJsAnACdAJ4AnwCgAKEAogCjAKQApQCmAKcAqACpAKoAqwCsAK0ArgCvALAAsQCyALMAtAC1ALYAtwC4ALkAugC7ALwAvQC+AL8AwADBAMIAwwDEAMUAxgDHAMgAyQDKAMsAzADNAM4AzwDQANEA0gDTANQA1QDWANcA2ADZANoA2wDcAN0A3gDfAOAA4QDiAOMA5ADlAOYA5wDoAOkA6gDrAOwA7QDuAO8A8ADxAPIA8wD0APUA9gD3APgA+QD6APsA/AD9AP4A/wAAAQEBAgEDAQQBBQEGAQcBCAEJAQoBCwEMAQ0BDgEPARABEQESARMBFAEVARYBFwEYARkBGgEbARwBHQEeAR8BIAEhASIBIwEkASUBJgEnASgBKQEqASsBLAEtAS4BLwEwATEBMgEzATQBNQE2ATcBOAE5AToBOwE8AT0BPgE/AUABQQFCAUMBRAFFAUYBRwFIAUkBSgFLAUwBTQFOAU8BUAFRAVIBUwFUAVUBVgFXAVgBWQFaAVsBXAFdAV4BXwFgAWEBYgFjAWQBZQFmAWcBaAFpAWoBawFsAW0BbgFvAXABcQFyAXMBdAF1AXYBdwF4AXkBegF7AXwBfQF+AX8BgAGBAYIBgwGEAYUBhgGHAYgBiQGKAYsBjAGNAY4BjwGQAZEBkgGTAZQBlQGWAZcBmAGZAZoBmwGcAZ0BngGfAaABoQGiAaMBpAGlAaYBpwGoAakBqgGrAawBrQGuAa8BsAGxAbIBswG0AbUBtgG3AbgBuQG6AbsBvAG9Ab4BvwHAAcEBwgHDAcQBxQHGAccByAHJAcoBywHMAc0BzgHPAdAB0QHSAdMB1AHVAdYB1wHYAdkB2gHbAdwB3QHeAd8B4AHhAeIB4wHkAeUB5gHnAegB6QHqAesB7AHtAe4B7wHwAfEB8gHzAQ==",
          "dtype": "i2"
         },
         "xaxis": "x2",
         "y": {
          "bdata": "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",
          "dtype": "f8"
         },
         "yaxis": "y2"
        }
       ],
       "layout": {
        "annotations": [
         {
          "font": {
           "size": 16
          },
          "showarrow": false,
          "text": "Original data",
          "x": 0.5,
          "xanchor": "center",
          "xref": "paper",
          "y": 1,
          "yanchor": "bottom",
          "yref": "paper"
         },
         {
          "font": {
           "size": 16
          },
          "showarrow": false,
          "text": "Normalized data",
          "x": 0.5,
          "xanchor": "center",
          "xref": "paper",
          "y": 0.375,
          "yanchor": "bottom",
          "yref": "paper"
         }
        ],
        "height": 600,
        "showlegend": true,
        "template": {
         "data": {
          "bar": [
           {
            "error_x": {
             "color": "#2a3f5f"
            },
            "error_y": {
             "color": "#2a3f5f"
            },
            "marker": {
             "line": {
              "color": "#E5ECF6",
              "width": 0.5
             },
             "pattern": {
              "fillmode": "overlay",
              "size": 10,
              "solidity": 0.2
             }
            },
            "type": "bar"
           }
          ],
          "barpolar": [
           {
            "marker": {
             "line": {
              "color": "#E5ECF6",
              "width": 0.5
             },
             "pattern": {
              "fillmode": "overlay",
              "size": 10,
              "solidity": 0.2
             }
            },
            "type": "barpolar"
           }
          ],
          "carpet": [
           {
            "aaxis": {
             "endlinecolor": "#2a3f5f",
             "gridcolor": "white",
             "linecolor": "white",
             "minorgridcolor": "white",
             "startlinecolor": "#2a3f5f"
            },
            "baxis": {
             "endlinecolor": "#2a3f5f",
             "gridcolor": "white",
             "linecolor": "white",
             "minorgridcolor": "white",
             "startlinecolor": "#2a3f5f"
            },
            "type": "carpet"
           }
          ],
          "choropleth": [
           {
            "colorbar": {
             "outlinewidth": 0,
             "ticks": ""
            },
            "type": "choropleth"
           }
          ],
          "contour": [
           {
            "colorbar": {
             "outlinewidth": 0,
             "ticks": ""
            },
            "colorscale": [
             [
              0,
              "#0d0887"
             ],
             [
              0.1111111111111111,
              "#46039f"
             ],
             [
              0.2222222222222222,
              "#7201a8"
             ],
             [
              0.3333333333333333,
              "#9c179e"
             ],
             [
              0.4444444444444444,
              "#bd3786"
             ],
             [
              0.5555555555555556,
              "#d8576b"
             ],
             [
              0.6666666666666666,
              "#ed7953"
             ],
             [
              0.7777777777777778,
              "#fb9f3a"
             ],
             [
              0.8888888888888888,
              "#fdca26"
             ],
             [
              1,
              "#f0f921"
             ]
            ],
            "type": "contour"
           }
          ],
          "contourcarpet": [
           {
            "colorbar": {
             "outlinewidth": 0,
             "ticks": ""
            },
            "type": "contourcarpet"
           }
          ],
          "heatmap": [
           {
            "colorbar": {
             "outlinewidth": 0,
             "ticks": ""
            },
            "colorscale": [
             [
              0,
              "#0d0887"
             ],
             [
              0.1111111111111111,
              "#46039f"
             ],
             [
              0.2222222222222222,
              "#7201a8"
             ],
             [
              0.3333333333333333,
              "#9c179e"
             ],
             [
              0.4444444444444444,
              "#bd3786"
             ],
             [
              0.5555555555555556,
              "#d8576b"
             ],
             [
              0.6666666666666666,
              "#ed7953"
             ],
             [
              0.7777777777777778,
              "#fb9f3a"
             ],
             [
              0.8888888888888888,
              "#fdca26"
             ],
             [
              1,
              "#f0f921"
             ]
            ],
            "type": "heatmap"
           }
          ],
          "histogram": [
           {
            "marker": {
             "pattern": {
              "fillmode": "overlay",
              "size": 10,
              "solidity": 0.2
             }
            },
            "type": "histogram"
           }
          ],
          "histogram2d": [
           {
            "colorbar": {
             "outlinewidth": 0,
             "ticks": ""
            },
            "colorscale": [
             [
              0,
              "#0d0887"
             ],
             [
              0.1111111111111111,
              "#46039f"
             ],
             [
              0.2222222222222222,
              "#7201a8"
             ],
             [
              0.3333333333333333,
              "#9c179e"
             ],
             [
              0.4444444444444444,
              "#bd3786"
             ],
             [
              0.5555555555555556,
              "#d8576b"
             ],
             [
              0.6666666666666666,
              "#ed7953"
             ],
             [
              0.7777777777777778,
              "#fb9f3a"
             ],
             [
              0.8888888888888888,
              "#fdca26"
             ],
             [
              1,
              "#f0f921"
             ]
            ],
            "type": "histogram2d"
           }
          ],
          "histogram2dcontour": [
           {
            "colorbar": {
             "outlinewidth": 0,
             "ticks": ""
            },
            "colorscale": [
             [
              0,
              "#0d0887"
             ],
             [
              0.1111111111111111,
              "#46039f"
             ],
             [
              0.2222222222222222,
              "#7201a8"
             ],
             [
              0.3333333333333333,
              "#9c179e"
             ],
             [
              0.4444444444444444,
              "#bd3786"
             ],
             [
              0.5555555555555556,
              "#d8576b"
             ],
             [
              0.6666666666666666,
              "#ed7953"
             ],
             [
              0.7777777777777778,
              "#fb9f3a"
             ],
             [
              0.8888888888888888,
              "#fdca26"
             ],
             [
              1,
              "#f0f921"
             ]
            ],
            "type": "histogram2dcontour"
           }
          ],
          "mesh3d": [
           {
            "colorbar": {
             "outlinewidth": 0,
             "ticks": ""
            },
            "type": "mesh3d"
           }
          ],
          "parcoords": [
           {
            "line": {
             "colorbar": {
              "outlinewidth": 0,
              "ticks": ""
             }
            },
            "type": "parcoords"
           }
          ],
          "pie": [
           {
            "automargin": true,
            "type": "pie"
           }
          ],
          "scatter": [
           {
            "fillpattern": {
             "fillmode": "overlay",
             "size": 10,
             "solidity": 0.2
            },
            "type": "scatter"
           }
          ],
          "scatter3d": [
           {
            "line": {
             "colorbar": {
              "outlinewidth": 0,
              "ticks": ""
             }
            },
            "marker": {
             "colorbar": {
              "outlinewidth": 0,
              "ticks": ""
             }
            },
            "type": "scatter3d"
           }
          ],
          "scattercarpet": [
           {
            "marker": {
             "colorbar": {
              "outlinewidth": 0,
              "ticks": ""
             }
            },
            "type": "scattercarpet"
           }
          ],
          "scattergeo": [
           {
            "marker": {
             "colorbar": {
              "outlinewidth": 0,
              "ticks": ""
             }
            },
            "type": "scattergeo"
           }
          ],
          "scattergl": [
           {
            "marker": {
             "colorbar": {
              "outlinewidth": 0,
              "ticks": ""
             }
            },
            "type": "scattergl"
           }
          ],
          "scattermap": [
           {
            "marker": {
             "colorbar": {
              "outlinewidth": 0,
              "ticks": ""
             }
            },
            "type": "scattermap"
           }
          ],
          "scattermapbox": [
           {
            "marker": {
             "colorbar": {
              "outlinewidth": 0,
              "ticks": ""
             }
            },
            "type": "scattermapbox"
           }
          ],
          "scatterpolar": [
           {
            "marker": {
             "colorbar": {
              "outlinewidth": 0,
              "ticks": ""
             }
            },
            "type": "scatterpolar"
           }
          ],
          "scatterpolargl": [
           {
            "marker": {
             "colorbar": {
              "outlinewidth": 0,
              "ticks": ""
             }
            },
            "type": "scatterpolargl"
           }
          ],
          "scatterternary": [
           {
            "marker": {
             "colorbar": {
              "outlinewidth": 0,
              "ticks": ""
             }
            },
            "type": "scatterternary"
           }
          ],
          "surface": [
           {
            "colorbar": {
             "outlinewidth": 0,
             "ticks": ""
            },
            "colorscale": [
             [
              0,
              "#0d0887"
             ],
             [
              0.1111111111111111,
              "#46039f"
             ],
             [
              0.2222222222222222,
              "#7201a8"
             ],
             [
              0.3333333333333333,
              "#9c179e"
             ],
             [
              0.4444444444444444,
              "#bd3786"
             ],
             [
              0.5555555555555556,
              "#d8576b"
             ],
             [
              0.6666666666666666,
              "#ed7953"
             ],
             [
              0.7777777777777778,
              "#fb9f3a"
             ],
             [
              0.8888888888888888,
              "#fdca26"
             ],
             [
              1,
              "#f0f921"
             ]
            ],
            "type": "surface"
           }
          ],
          "table": [
           {
            "cells": {
             "fill": {
              "color": "#EBF0F8"
             },
             "line": {
              "color": "white"
             }
            },
            "header": {
             "fill": {
              "color": "#C8D4E3"
             },
             "line": {
              "color": "white"
             }
            },
            "type": "table"
           }
          ]
         },
         "layout": {
          "annotationdefaults": {
           "arrowcolor": "#2a3f5f",
           "arrowhead": 0,
           "arrowwidth": 1
          },
          "autotypenumbers": "strict",
          "coloraxis": {
           "colorbar": {
            "outlinewidth": 0,
            "ticks": ""
           }
          },
          "colorscale": {
           "diverging": [
            [
             0,
             "#8e0152"
            ],
            [
             0.1,
             "#c51b7d"
            ],
            [
             0.2,
             "#de77ae"
            ],
            [
             0.3,
             "#f1b6da"
            ],
            [
             0.4,
             "#fde0ef"
            ],
            [
             0.5,
             "#f7f7f7"
            ],
            [
             0.6,
             "#e6f5d0"
            ],
            [
             0.7,
             "#b8e186"
            ],
            [
             0.8,
             "#7fbc41"
            ],
            [
             0.9,
             "#4d9221"
            ],
            [
             1,
             "#276419"
            ]
           ],
           "sequential": [
            [
             0,
             "#0d0887"
            ],
            [
             0.1111111111111111,
             "#46039f"
            ],
            [
             0.2222222222222222,
             "#7201a8"
            ],
            [
             0.3333333333333333,
             "#9c179e"
            ],
            [
             0.4444444444444444,
             "#bd3786"
            ],
            [
             0.5555555555555556,
             "#d8576b"
            ],
            [
             0.6666666666666666,
             "#ed7953"
            ],
            [
             0.7777777777777778,
             "#fb9f3a"
            ],
            [
             0.8888888888888888,
             "#fdca26"
            ],
            [
             1,
             "#f0f921"
            ]
           ],
           "sequentialminus": [
            [
             0,
             "#0d0887"
            ],
            [
             0.1111111111111111,
             "#46039f"
            ],
            [
             0.2222222222222222,
             "#7201a8"
            ],
            [
             0.3333333333333333,
             "#9c179e"
            ],
            [
             0.4444444444444444,
             "#bd3786"
            ],
            [
             0.5555555555555556,
             "#d8576b"
            ],
            [
             0.6666666666666666,
             "#ed7953"
            ],
            [
             0.7777777777777778,
             "#fb9f3a"
            ],
            [
             0.8888888888888888,
             "#fdca26"
            ],
            [
             1,
             "#f0f921"
            ]
           ]
          },
          "colorway": [
           "#636efa",
           "#EF553B",
           "#00cc96",
           "#ab63fa",
           "#FFA15A",
           "#19d3f3",
           "#FF6692",
           "#B6E880",
           "#FF97FF",
           "#FECB52"
          ],
          "font": {
           "color": "#2a3f5f"
          },
          "geo": {
           "bgcolor": "white",
           "lakecolor": "white",
           "landcolor": "#E5ECF6",
           "showlakes": true,
           "showland": true,
           "subunitcolor": "white"
          },
          "hoverlabel": {
           "align": "left"
          },
          "hovermode": "closest",
          "mapbox": {
           "style": "light"
          },
          "paper_bgcolor": "white",
          "plot_bgcolor": "#E5ECF6",
          "polar": {
           "angularaxis": {
            "gridcolor": "white",
            "linecolor": "white",
            "ticks": ""
           },
           "bgcolor": "#E5ECF6",
           "radialaxis": {
            "gridcolor": "white",
            "linecolor": "white",
            "ticks": ""
           }
          },
          "scene": {
           "xaxis": {
            "backgroundcolor": "#E5ECF6",
            "gridcolor": "white",
            "gridwidth": 2,
            "linecolor": "white",
            "showbackground": true,
            "ticks": "",
            "zerolinecolor": "white"
           },
           "yaxis": {
            "backgroundcolor": "#E5ECF6",
            "gridcolor": "white",
            "gridwidth": 2,
            "linecolor": "white",
            "showbackground": true,
            "ticks": "",
            "zerolinecolor": "white"
           },
           "zaxis": {
            "backgroundcolor": "#E5ECF6",
            "gridcolor": "white",
            "gridwidth": 2,
            "linecolor": "white",
            "showbackground": true,
            "ticks": "",
            "zerolinecolor": "white"
           }
          },
          "shapedefaults": {
           "line": {
            "color": "#2a3f5f"
           }
          },
          "ternary": {
           "aaxis": {
            "gridcolor": "white",
            "linecolor": "white",
            "ticks": ""
           },
           "baxis": {
            "gridcolor": "white",
            "linecolor": "white",
            "ticks": ""
           },
           "bgcolor": "#E5ECF6",
           "caxis": {
            "gridcolor": "white",
            "linecolor": "white",
            "ticks": ""
           }
          },
          "title": {
           "x": 0.05
          },
          "xaxis": {
           "automargin": true,
           "gridcolor": "white",
           "linecolor": "white",
           "ticks": "",
           "title": {
            "standoff": 15
           },
           "zerolinecolor": "white",
           "zerolinewidth": 2
          },
          "yaxis": {
           "automargin": true,
           "gridcolor": "white",
           "linecolor": "white",
           "ticks": "",
           "title": {
            "standoff": 15
           },
           "zerolinecolor": "white",
           "zerolinewidth": 2
          }
         }
        },
        "width": 800,
        "xaxis": {
         "anchor": "y",
         "domain": [
          0,
          1
         ]
        },
        "xaxis2": {
         "anchor": "y2",
         "domain": [
          0,
          1
         ]
        },
        "yaxis": {
         "anchor": "x",
         "domain": [
          0.625,
          1
         ],
         "title": {
          "text": "Heart rate"
         }
        },
        "yaxis2": {
         "anchor": "x2",
         "domain": [
          0,
          0.375
         ],
         "title": {
          "text": "Normalized heart rate"
         }
        }
       }
      }
     },
     "metadata": {},
     "output_type": "display_data"
    }
   ],
   "source": [
    "# Plot original data and normalized data using plotly\n",
    "fig = make_subplots(rows=2, cols=1, subplot_titles=(\"Original data\", \"Normalized data\"))\n",
    "\n",
    "fig.add_trace(\n",
    "    go.Scatter(x=time, y=hr_accurate_orig, mode=\"lines\", name=\"Accurate\"), row=1, col=1\n",
    ")\n",
    "fig.add_trace(\n",
    "    go.Scatter(x=time, y=hr_noisy_orig, mode=\"lines\", name=\"Noisy\"), row=1, col=1\n",
    ")\n",
    "\n",
    "fig.add_trace(\n",
    "    go.Scatter(x=time, y=hr_accurate, mode=\"lines\", name=\"Accurate\"), row=2, col=1\n",
    ")\n",
    "fig.add_trace(go.Scatter(x=time, y=hr_noisy, mode=\"lines\", name=\"Noisy\"), row=2, col=1)\n",
    "\n",
    "fig.update_yaxes(title_text=\"Heart rate\", row=1, col=1)\n",
    "fig.update_yaxes(title_text=\"Normalized heart rate\", row=2, col=1)\n",
    "fig.update_layout(height=600, width=800, showlegend=True)\n",
    "fig.show()"
   ]
  },
  {
   "cell_type": "code",
   "execution_count": 18,
   "id": "b59ebb96",
   "metadata": {},
   "outputs": [],
   "source": [
    "w1 = 0.1\n",
    "w2 = 0.1\n",
    "b = 0.0\n",
    "learning_rate = 0.01  # 0.005\n",
    "# learning_rate = 0.1\n",
    "# learning_rate_w1 = 0.00001\n",
    "# learning_rate_w2 = 0.00001\n",
    "# learning_rate_b = 0.1\n",
    "\n",
    "n_epochs = 20"
   ]
  },
  {
   "cell_type": "code",
   "execution_count": 19,
   "id": "5eb49526",
   "metadata": {},
   "outputs": [],
   "source": [
    "weights_history = [[w1, w2, b]]\n",
    "for _ in range(n_epochs):\n",
    "    hr_pred = []\n",
    "    y_prev = 0.0\n",
    "    for x, y in zip(hr_noisy, hr_accurate):\n",
    "        y_pred = w1 * x + w2 * y_prev + b\n",
    "        hr_pred.append(y_pred)\n",
    "        error = y_pred - y\n",
    "        update = -learning_rate * 2 * error  # Neg sign to do gradient descent\n",
    "        w1 += update * x\n",
    "        w2 += update * y_prev\n",
    "        b += update\n",
    "\n",
    "        y_prev = y_pred\n",
    "    # print(f\"w1: {w1}, w2: {w2}, b: {b}\")\n",
    "    weights_history.append([w1, w2, b])\n",
    "\n",
    "weights_history = np.array(weights_history)\n",
    "# history_df = pl.DataFrame(weights_history, schema=[\"w1\", \"w2\", \"b\"], orient=\"row\")\n"
   ]
  },
  {
   "cell_type": "code",
   "execution_count": 20,
   "id": "af30e9bc",
   "metadata": {},
   "outputs": [
    {
     "data": {
      "application/vnd.plotly.v1+json": {
       "config": {
        "plotlyServerURL": "https://plot.ly"
       },
       "data": [
        {
         "mode": "lines",
         "name": "w1",
         "type": "scatter",
         "y": {
          "bdata": "mpmZmZmZuT+NGHd3bGHePzIIHvi2yNg/sQAuTn6L1T+uo/LSg87TPztx2G+t8NI/XKM0GruH0j/3oPpHkVfSP4Cc1rPNQdI/1kazgwo40j+9BbhErTPSPz2lHZO6MdI/pipuIdww0j/AuGfweDDSP3kZybZMMNI/jqxJ/zgw0j+lNQg1MDDSP3UT2EksMNI/e1Kdiiow0j+ahTzDKTDSP+QwWmopMNI/",
          "dtype": "f8"
         }
        },
        {
         "mode": "lines",
         "name": "w2",
         "type": "scatter",
         "y": {
          "bdata": "mpmZmZmZuT88LZRBznrbP+G6YGz8h+A/7am/zI4P4j/qRueFx9fiPwmv+DJJOOM/xvQVzA1l4z9ncOqkZHnjP/Y8ei6KguM/8F1tK6KG4z9BKOUxdojjPzYhHgJHieM/UxCjIaSJ4z8jlx2nzYnjP6jqIirgieM/70fjauiJ4z/fY8cY7InjP3a1rrztieM/C+/gd+6J4z+c/VTL7onjPzg6ifDuieM/",
          "dtype": "f8"
         }
        },
        {
         "mode": "lines",
         "name": "b",
         "type": "scatter",
         "y": {
          "bdata": "AAAAAAAAAABma7j24XLNv80gK2EkVse/f0FsAE3Ow78J4MdGzObBv17xjtZb8sC/baZGiEJ+wL+FiMh93EjAv3pbgJa0MMC/SAuyU90lwL8h/ZZgBCHAv8+n12jaHsC/kpZ8TOMdwL+a0Q4bdR3Av83FnPlDHcC/RnE1Ei4dwL+0V1VOJB3Av0N/3PMfHcC/hDEFAx4dwL8xY4YlHR3Avwflx8IcHcC/",
          "dtype": "f8"
         }
        }
       ],
       "layout": {
        "template": {
         "data": {
          "bar": [
           {
            "error_x": {
             "color": "#2a3f5f"
            },
            "error_y": {
             "color": "#2a3f5f"
            },
            "marker": {
             "line": {
              "color": "#E5ECF6",
              "width": 0.5
             },
             "pattern": {
              "fillmode": "overlay",
              "size": 10,
              "solidity": 0.2
             }
            },
            "type": "bar"
           }
          ],
          "barpolar": [
           {
            "marker": {
             "line": {
              "color": "#E5ECF6",
              "width": 0.5
             },
             "pattern": {
              "fillmode": "overlay",
              "size": 10,
              "solidity": 0.2
             }
            },
            "type": "barpolar"
           }
          ],
          "carpet": [
           {
            "aaxis": {
             "endlinecolor": "#2a3f5f",
             "gridcolor": "white",
             "linecolor": "white",
             "minorgridcolor": "white",
             "startlinecolor": "#2a3f5f"
            },
            "baxis": {
             "endlinecolor": "#2a3f5f",
             "gridcolor": "white",
             "linecolor": "white",
             "minorgridcolor": "white",
             "startlinecolor": "#2a3f5f"
            },
            "type": "carpet"
           }
          ],
          "choropleth": [
           {
            "colorbar": {
             "outlinewidth": 0,
             "ticks": ""
            },
            "type": "choropleth"
           }
          ],
          "contour": [
           {
            "colorbar": {
             "outlinewidth": 0,
             "ticks": ""
            },
            "colorscale": [
             [
              0,
              "#0d0887"
             ],
             [
              0.1111111111111111,
              "#46039f"
             ],
             [
              0.2222222222222222,
              "#7201a8"
             ],
             [
              0.3333333333333333,
              "#9c179e"
             ],
             [
              0.4444444444444444,
              "#bd3786"
             ],
             [
              0.5555555555555556,
              "#d8576b"
             ],
             [
              0.6666666666666666,
              "#ed7953"
             ],
             [
              0.7777777777777778,
              "#fb9f3a"
             ],
             [
              0.8888888888888888,
              "#fdca26"
             ],
             [
              1,
              "#f0f921"
             ]
            ],
            "type": "contour"
           }
          ],
          "contourcarpet": [
           {
            "colorbar": {
             "outlinewidth": 0,
             "ticks": ""
            },
            "type": "contourcarpet"
           }
          ],
          "heatmap": [
           {
            "colorbar": {
             "outlinewidth": 0,
             "ticks": ""
            },
            "colorscale": [
             [
              0,
              "#0d0887"
             ],
             [
              0.1111111111111111,
              "#46039f"
             ],
             [
              0.2222222222222222,
              "#7201a8"
             ],
             [
              0.3333333333333333,
              "#9c179e"
             ],
             [
              0.4444444444444444,
              "#bd3786"
             ],
             [
              0.5555555555555556,
              "#d8576b"
             ],
             [
              0.6666666666666666,
              "#ed7953"
             ],
             [
              0.7777777777777778,
              "#fb9f3a"
             ],
             [
              0.8888888888888888,
              "#fdca26"
             ],
             [
              1,
              "#f0f921"
             ]
            ],
            "type": "heatmap"
           }
          ],
          "histogram": [
           {
            "marker": {
             "pattern": {
              "fillmode": "overlay",
              "size": 10,
              "solidity": 0.2
             }
            },
            "type": "histogram"
           }
          ],
          "histogram2d": [
           {
            "colorbar": {
             "outlinewidth": 0,
             "ticks": ""
            },
            "colorscale": [
             [
              0,
              "#0d0887"
             ],
             [
              0.1111111111111111,
              "#46039f"
             ],
             [
              0.2222222222222222,
              "#7201a8"
             ],
             [
              0.3333333333333333,
              "#9c179e"
             ],
             [
              0.4444444444444444,
              "#bd3786"
             ],
             [
              0.5555555555555556,
              "#d8576b"
             ],
             [
              0.6666666666666666,
              "#ed7953"
             ],
             [
              0.7777777777777778,
              "#fb9f3a"
             ],
             [
              0.8888888888888888,
              "#fdca26"
             ],
             [
              1,
              "#f0f921"
             ]
            ],
            "type": "histogram2d"
           }
          ],
          "histogram2dcontour": [
           {
            "colorbar": {
             "outlinewidth": 0,
             "ticks": ""
            },
            "colorscale": [
             [
              0,
              "#0d0887"
             ],
             [
              0.1111111111111111,
              "#46039f"
             ],
             [
              0.2222222222222222,
              "#7201a8"
             ],
             [
              0.3333333333333333,
              "#9c179e"
             ],
             [
              0.4444444444444444,
              "#bd3786"
             ],
             [
              0.5555555555555556,
              "#d8576b"
             ],
             [
              0.6666666666666666,
              "#ed7953"
             ],
             [
              0.7777777777777778,
              "#fb9f3a"
             ],
             [
              0.8888888888888888,
              "#fdca26"
             ],
             [
              1,
              "#f0f921"
             ]
            ],
            "type": "histogram2dcontour"
           }
          ],
          "mesh3d": [
           {
            "colorbar": {
             "outlinewidth": 0,
             "ticks": ""
            },
            "type": "mesh3d"
           }
          ],
          "parcoords": [
           {
            "line": {
             "colorbar": {
              "outlinewidth": 0,
              "ticks": ""
             }
            },
            "type": "parcoords"
           }
          ],
          "pie": [
           {
            "automargin": true,
            "type": "pie"
           }
          ],
          "scatter": [
           {
            "fillpattern": {
             "fillmode": "overlay",
             "size": 10,
             "solidity": 0.2
            },
            "type": "scatter"
           }
          ],
          "scatter3d": [
           {
            "line": {
             "colorbar": {
              "outlinewidth": 0,
              "ticks": ""
             }
            },
            "marker": {
             "colorbar": {
              "outlinewidth": 0,
              "ticks": ""
             }
            },
            "type": "scatter3d"
           }
          ],
          "scattercarpet": [
           {
            "marker": {
             "colorbar": {
              "outlinewidth": 0,
              "ticks": ""
             }
            },
            "type": "scattercarpet"
           }
          ],
          "scattergeo": [
           {
            "marker": {
             "colorbar": {
              "outlinewidth": 0,
              "ticks": ""
             }
            },
            "type": "scattergeo"
           }
          ],
          "scattergl": [
           {
            "marker": {
             "colorbar": {
              "outlinewidth": 0,
              "ticks": ""
             }
            },
            "type": "scattergl"
           }
          ],
          "scattermap": [
           {
            "marker": {
             "colorbar": {
              "outlinewidth": 0,
              "ticks": ""
             }
            },
            "type": "scattermap"
           }
          ],
          "scattermapbox": [
           {
            "marker": {
             "colorbar": {
              "outlinewidth": 0,
              "ticks": ""
             }
            },
            "type": "scattermapbox"
           }
          ],
          "scatterpolar": [
           {
            "marker": {
             "colorbar": {
              "outlinewidth": 0,
              "ticks": ""
             }
            },
            "type": "scatterpolar"
           }
          ],
          "scatterpolargl": [
           {
            "marker": {
             "colorbar": {
              "outlinewidth": 0,
              "ticks": ""
             }
            },
            "type": "scatterpolargl"
           }
          ],
          "scatterternary": [
           {
            "marker": {
             "colorbar": {
              "outlinewidth": 0,
              "ticks": ""
             }
            },
            "type": "scatterternary"
           }
          ],
          "surface": [
           {
            "colorbar": {
             "outlinewidth": 0,
             "ticks": ""
            },
            "colorscale": [
             [
              0,
              "#0d0887"
             ],
             [
              0.1111111111111111,
              "#46039f"
             ],
             [
              0.2222222222222222,
              "#7201a8"
             ],
             [
              0.3333333333333333,
              "#9c179e"
             ],
             [
              0.4444444444444444,
              "#bd3786"
             ],
             [
              0.5555555555555556,
              "#d8576b"
             ],
             [
              0.6666666666666666,
              "#ed7953"
             ],
             [
              0.7777777777777778,
              "#fb9f3a"
             ],
             [
              0.8888888888888888,
              "#fdca26"
             ],
             [
              1,
              "#f0f921"
             ]
            ],
            "type": "surface"
           }
          ],
          "table": [
           {
            "cells": {
             "fill": {
              "color": "#EBF0F8"
             },
             "line": {
              "color": "white"
             }
            },
            "header": {
             "fill": {
              "color": "#C8D4E3"
             },
             "line": {
              "color": "white"
             }
            },
            "type": "table"
           }
          ]
         },
         "layout": {
          "annotationdefaults": {
           "arrowcolor": "#2a3f5f",
           "arrowhead": 0,
           "arrowwidth": 1
          },
          "autotypenumbers": "strict",
          "coloraxis": {
           "colorbar": {
            "outlinewidth": 0,
            "ticks": ""
           }
          },
          "colorscale": {
           "diverging": [
            [
             0,
             "#8e0152"
            ],
            [
             0.1,
             "#c51b7d"
            ],
            [
             0.2,
             "#de77ae"
            ],
            [
             0.3,
             "#f1b6da"
            ],
            [
             0.4,
             "#fde0ef"
            ],
            [
             0.5,
             "#f7f7f7"
            ],
            [
             0.6,
             "#e6f5d0"
            ],
            [
             0.7,
             "#b8e186"
            ],
            [
             0.8,
             "#7fbc41"
            ],
            [
             0.9,
             "#4d9221"
            ],
            [
             1,
             "#276419"
            ]
           ],
           "sequential": [
            [
             0,
             "#0d0887"
            ],
            [
             0.1111111111111111,
             "#46039f"
            ],
            [
             0.2222222222222222,
             "#7201a8"
            ],
            [
             0.3333333333333333,
             "#9c179e"
            ],
            [
             0.4444444444444444,
             "#bd3786"
            ],
            [
             0.5555555555555556,
             "#d8576b"
            ],
            [
             0.6666666666666666,
             "#ed7953"
            ],
            [
             0.7777777777777778,
             "#fb9f3a"
            ],
            [
             0.8888888888888888,
             "#fdca26"
            ],
            [
             1,
             "#f0f921"
            ]
           ],
           "sequentialminus": [
            [
             0,
             "#0d0887"
            ],
            [
             0.1111111111111111,
             "#46039f"
            ],
            [
             0.2222222222222222,
             "#7201a8"
            ],
            [
             0.3333333333333333,
             "#9c179e"
            ],
            [
             0.4444444444444444,
             "#bd3786"
            ],
            [
             0.5555555555555556,
             "#d8576b"
            ],
            [
             0.6666666666666666,
             "#ed7953"
            ],
            [
             0.7777777777777778,
             "#fb9f3a"
            ],
            [
             0.8888888888888888,
             "#fdca26"
            ],
            [
             1,
             "#f0f921"
            ]
           ]
          },
          "colorway": [
           "#636efa",
           "#EF553B",
           "#00cc96",
           "#ab63fa",
           "#FFA15A",
           "#19d3f3",
           "#FF6692",
           "#B6E880",
           "#FF97FF",
           "#FECB52"
          ],
          "font": {
           "color": "#2a3f5f"
          },
          "geo": {
           "bgcolor": "white",
           "lakecolor": "white",
           "landcolor": "#E5ECF6",
           "showlakes": true,
           "showland": true,
           "subunitcolor": "white"
          },
          "hoverlabel": {
           "align": "left"
          },
          "hovermode": "closest",
          "mapbox": {
           "style": "light"
          },
          "paper_bgcolor": "white",
          "plot_bgcolor": "#E5ECF6",
          "polar": {
           "angularaxis": {
            "gridcolor": "white",
            "linecolor": "white",
            "ticks": ""
           },
           "bgcolor": "#E5ECF6",
           "radialaxis": {
            "gridcolor": "white",
            "linecolor": "white",
            "ticks": ""
           }
          },
          "scene": {
           "xaxis": {
            "backgroundcolor": "#E5ECF6",
            "gridcolor": "white",
            "gridwidth": 2,
            "linecolor": "white",
            "showbackground": true,
            "ticks": "",
            "zerolinecolor": "white"
           },
           "yaxis": {
            "backgroundcolor": "#E5ECF6",
            "gridcolor": "white",
            "gridwidth": 2,
            "linecolor": "white",
            "showbackground": true,
            "ticks": "",
            "zerolinecolor": "white"
           },
           "zaxis": {
            "backgroundcolor": "#E5ECF6",
            "gridcolor": "white",
            "gridwidth": 2,
            "linecolor": "white",
            "showbackground": true,
            "ticks": "",
            "zerolinecolor": "white"
           }
          },
          "shapedefaults": {
           "line": {
            "color": "#2a3f5f"
           }
          },
          "ternary": {
           "aaxis": {
            "gridcolor": "white",
            "linecolor": "white",
            "ticks": ""
           },
           "baxis": {
            "gridcolor": "white",
            "linecolor": "white",
            "ticks": ""
           },
           "bgcolor": "#E5ECF6",
           "caxis": {
            "gridcolor": "white",
            "linecolor": "white",
            "ticks": ""
           }
          },
          "title": {
           "x": 0.05
          },
          "xaxis": {
           "automargin": true,
           "gridcolor": "white",
           "linecolor": "white",
           "ticks": "",
           "title": {
            "standoff": 15
           },
           "zerolinecolor": "white",
           "zerolinewidth": 2
          },
          "yaxis": {
           "automargin": true,
           "gridcolor": "white",
           "linecolor": "white",
           "ticks": "",
           "title": {
            "standoff": 15
           },
           "zerolinecolor": "white",
           "zerolinewidth": 2
          }
         }
        },
        "title": {
         "text": "Weights over epochs"
        },
        "xaxis": {
         "title": {
          "text": "Epochs"
         }
        },
        "yaxis": {
         "title": {
          "text": "Weight value"
         }
        }
       }
      }
     },
     "metadata": {},
     "output_type": "display_data"
    }
   ],
   "source": [
    "fig = go.Figure()\n",
    "fig.add_trace(\n",
    "    go.Scatter(\n",
    "        y=weights_history[:, 0],\n",
    "        mode=\"lines\",\n",
    "        name=\"w1\",\n",
    "    )\n",
    ")\n",
    "fig.add_trace(\n",
    "    go.Scatter(\n",
    "        y=weights_history[:, 1],\n",
    "        mode=\"lines\",\n",
    "        name=\"w2\",\n",
    "    )\n",
    ")\n",
    "fig.add_trace(\n",
    "    go.Scatter(\n",
    "        y=weights_history[:, 2],\n",
    "        mode=\"lines\",\n",
    "        name=\"b\",\n",
    "    )\n",
    ")\n",
    "\n",
    "fig.update_layout(\n",
    "    title=\"Weights over epochs\",\n",
    "    xaxis_title=\"Epochs\",\n",
    "    yaxis_title=\"Weight value\",\n",
    ")\n",
    "fig.show()"
   ]
  },
  {
   "cell_type": "code",
   "execution_count": 21,
   "id": "cc597cd1",
   "metadata": {},
   "outputs": [
    {
     "data": {
      "application/vnd.plotly.v1+json": {
       "config": {
        "plotlyServerURL": "https://plot.ly"
       },
       "data": [
        {
         "mode": "lines",
         "name": "Input",
         "opacity": 0.3,
         "type": "scatter",
         "y": {
          "bdata": "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",
          "dtype": "f8"
         }
        },
        {
         "mode": "lines",
         "name": "Predicted",
         "type": "scatter",
         "y": {
          "bdata": "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",
          "dtype": "f8"
         }
        },
        {
         "mode": "lines",
         "name": "Accurate",
         "type": "scatter",
         "y": {
          "bdata": "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",
          "dtype": "f8"
         }
        }
       ],
       "layout": {
        "template": {
         "data": {
          "bar": [
           {
            "error_x": {
             "color": "#2a3f5f"
            },
            "error_y": {
             "color": "#2a3f5f"
            },
            "marker": {
             "line": {
              "color": "#E5ECF6",
              "width": 0.5
             },
             "pattern": {
              "fillmode": "overlay",
              "size": 10,
              "solidity": 0.2
             }
            },
            "type": "bar"
           }
          ],
          "barpolar": [
           {
            "marker": {
             "line": {
              "color": "#E5ECF6",
              "width": 0.5
             },
             "pattern": {
              "fillmode": "overlay",
              "size": 10,
              "solidity": 0.2
             }
            },
            "type": "barpolar"
           }
          ],
          "carpet": [
           {
            "aaxis": {
             "endlinecolor": "#2a3f5f",
             "gridcolor": "white",
             "linecolor": "white",
             "minorgridcolor": "white",
             "startlinecolor": "#2a3f5f"
            },
            "baxis": {
             "endlinecolor": "#2a3f5f",
             "gridcolor": "white",
             "linecolor": "white",
             "minorgridcolor": "white",
             "startlinecolor": "#2a3f5f"
            },
            "type": "carpet"
           }
          ],
          "choropleth": [
           {
            "colorbar": {
             "outlinewidth": 0,
             "ticks": ""
            },
            "type": "choropleth"
           }
          ],
          "contour": [
           {
            "colorbar": {
             "outlinewidth": 0,
             "ticks": ""
            },
            "colorscale": [
             [
              0,
              "#0d0887"
             ],
             [
              0.1111111111111111,
              "#46039f"
             ],
             [
              0.2222222222222222,
              "#7201a8"
             ],
             [
              0.3333333333333333,
              "#9c179e"
             ],
             [
              0.4444444444444444,
              "#bd3786"
             ],
             [
              0.5555555555555556,
              "#d8576b"
             ],
             [
              0.6666666666666666,
              "#ed7953"
             ],
             [
              0.7777777777777778,
              "#fb9f3a"
             ],
             [
              0.8888888888888888,
              "#fdca26"
             ],
             [
              1,
              "#f0f921"
             ]
            ],
            "type": "contour"
           }
          ],
          "contourcarpet": [
           {
            "colorbar": {
             "outlinewidth": 0,
             "ticks": ""
            },
            "type": "contourcarpet"
           }
          ],
          "heatmap": [
           {
            "colorbar": {
             "outlinewidth": 0,
             "ticks": ""
            },
            "colorscale": [
             [
              0,
              "#0d0887"
             ],
             [
              0.1111111111111111,
              "#46039f"
             ],
             [
              0.2222222222222222,
              "#7201a8"
             ],
             [
              0.3333333333333333,
              "#9c179e"
             ],
             [
              0.4444444444444444,
              "#bd3786"
             ],
             [
              0.5555555555555556,
              "#d8576b"
             ],
             [
              0.6666666666666666,
              "#ed7953"
             ],
             [
              0.7777777777777778,
              "#fb9f3a"
             ],
             [
              0.8888888888888888,
              "#fdca26"
             ],
             [
              1,
              "#f0f921"
             ]
            ],
            "type": "heatmap"
           }
          ],
          "histogram": [
           {
            "marker": {
             "pattern": {
              "fillmode": "overlay",
              "size": 10,
              "solidity": 0.2
             }
            },
            "type": "histogram"
           }
          ],
          "histogram2d": [
           {
            "colorbar": {
             "outlinewidth": 0,
             "ticks": ""
            },
            "colorscale": [
             [
              0,
              "#0d0887"
             ],
             [
              0.1111111111111111,
              "#46039f"
             ],
             [
              0.2222222222222222,
              "#7201a8"
             ],
             [
              0.3333333333333333,
              "#9c179e"
             ],
             [
              0.4444444444444444,
              "#bd3786"
             ],
             [
              0.5555555555555556,
              "#d8576b"
             ],
             [
              0.6666666666666666,
              "#ed7953"
             ],
             [
              0.7777777777777778,
              "#fb9f3a"
             ],
             [
              0.8888888888888888,
              "#fdca26"
             ],
             [
              1,
              "#f0f921"
             ]
            ],
            "type": "histogram2d"
           }
          ],
          "histogram2dcontour": [
           {
            "colorbar": {
             "outlinewidth": 0,
             "ticks": ""
            },
            "colorscale": [
             [
              0,
              "#0d0887"
             ],
             [
              0.1111111111111111,
              "#46039f"
             ],
             [
              0.2222222222222222,
              "#7201a8"
             ],
             [
              0.3333333333333333,
              "#9c179e"
             ],
             [
              0.4444444444444444,
              "#bd3786"
             ],
             [
              0.5555555555555556,
              "#d8576b"
             ],
             [
              0.6666666666666666,
              "#ed7953"
             ],
             [
              0.7777777777777778,
              "#fb9f3a"
             ],
             [
              0.8888888888888888,
              "#fdca26"
             ],
             [
              1,
              "#f0f921"
             ]
            ],
            "type": "histogram2dcontour"
           }
          ],
          "mesh3d": [
           {
            "colorbar": {
             "outlinewidth": 0,
             "ticks": ""
            },
            "type": "mesh3d"
           }
          ],
          "parcoords": [
           {
            "line": {
             "colorbar": {
              "outlinewidth": 0,
              "ticks": ""
             }
            },
            "type": "parcoords"
           }
          ],
          "pie": [
           {
            "automargin": true,
            "type": "pie"
           }
          ],
          "scatter": [
           {
            "fillpattern": {
             "fillmode": "overlay",
             "size": 10,
             "solidity": 0.2
            },
            "type": "scatter"
           }
          ],
          "scatter3d": [
           {
            "line": {
             "colorbar": {
              "outlinewidth": 0,
              "ticks": ""
             }
            },
            "marker": {
             "colorbar": {
              "outlinewidth": 0,
              "ticks": ""
             }
            },
            "type": "scatter3d"
           }
          ],
          "scattercarpet": [
           {
            "marker": {
             "colorbar": {
              "outlinewidth": 0,
              "ticks": ""
             }
            },
            "type": "scattercarpet"
           }
          ],
          "scattergeo": [
           {
            "marker": {
             "colorbar": {
              "outlinewidth": 0,
              "ticks": ""
             }
            },
            "type": "scattergeo"
           }
          ],
          "scattergl": [
           {
            "marker": {
             "colorbar": {
              "outlinewidth": 0,
              "ticks": ""
             }
            },
            "type": "scattergl"
           }
          ],
          "scattermap": [
           {
            "marker": {
             "colorbar": {
              "outlinewidth": 0,
              "ticks": ""
             }
            },
            "type": "scattermap"
           }
          ],
          "scattermapbox": [
           {
            "marker": {
             "colorbar": {
              "outlinewidth": 0,
              "ticks": ""
             }
            },
            "type": "scattermapbox"
           }
          ],
          "scatterpolar": [
           {
            "marker": {
             "colorbar": {
              "outlinewidth": 0,
              "ticks": ""
             }
            },
            "type": "scatterpolar"
           }
          ],
          "scatterpolargl": [
           {
            "marker": {
             "colorbar": {
              "outlinewidth": 0,
              "ticks": ""
             }
            },
            "type": "scatterpolargl"
           }
          ],
          "scatterternary": [
           {
            "marker": {
             "colorbar": {
              "outlinewidth": 0,
              "ticks": ""
             }
            },
            "type": "scatterternary"
           }
          ],
          "surface": [
           {
            "colorbar": {
             "outlinewidth": 0,
             "ticks": ""
            },
            "colorscale": [
             [
              0,
              "#0d0887"
             ],
             [
              0.1111111111111111,
              "#46039f"
             ],
             [
              0.2222222222222222,
              "#7201a8"
             ],
             [
              0.3333333333333333,
              "#9c179e"
             ],
             [
              0.4444444444444444,
              "#bd3786"
             ],
             [
              0.5555555555555556,
              "#d8576b"
             ],
             [
              0.6666666666666666,
              "#ed7953"
             ],
             [
              0.7777777777777778,
              "#fb9f3a"
             ],
             [
              0.8888888888888888,
              "#fdca26"
             ],
             [
              1,
              "#f0f921"
             ]
            ],
            "type": "surface"
           }
          ],
          "table": [
           {
            "cells": {
             "fill": {
              "color": "#EBF0F8"
             },
             "line": {
              "color": "white"
             }
            },
            "header": {
             "fill": {
              "color": "#C8D4E3"
             },
             "line": {
              "color": "white"
             }
            },
            "type": "table"
           }
          ]
         },
         "layout": {
          "annotationdefaults": {
           "arrowcolor": "#2a3f5f",
           "arrowhead": 0,
           "arrowwidth": 1
          },
          "autotypenumbers": "strict",
          "coloraxis": {
           "colorbar": {
            "outlinewidth": 0,
            "ticks": ""
           }
          },
          "colorscale": {
           "diverging": [
            [
             0,
             "#8e0152"
            ],
            [
             0.1,
             "#c51b7d"
            ],
            [
             0.2,
             "#de77ae"
            ],
            [
             0.3,
             "#f1b6da"
            ],
            [
             0.4,
             "#fde0ef"
            ],
            [
             0.5,
             "#f7f7f7"
            ],
            [
             0.6,
             "#e6f5d0"
            ],
            [
             0.7,
             "#b8e186"
            ],
            [
             0.8,
             "#7fbc41"
            ],
            [
             0.9,
             "#4d9221"
            ],
            [
             1,
             "#276419"
            ]
           ],
           "sequential": [
            [
             0,
             "#0d0887"
            ],
            [
             0.1111111111111111,
             "#46039f"
            ],
            [
             0.2222222222222222,
             "#7201a8"
            ],
            [
             0.3333333333333333,
             "#9c179e"
            ],
            [
             0.4444444444444444,
             "#bd3786"
            ],
            [
             0.5555555555555556,
             "#d8576b"
            ],
            [
             0.6666666666666666,
             "#ed7953"
            ],
            [
             0.7777777777777778,
             "#fb9f3a"
            ],
            [
             0.8888888888888888,
             "#fdca26"
            ],
            [
             1,
             "#f0f921"
            ]
           ],
           "sequentialminus": [
            [
             0,
             "#0d0887"
            ],
            [
             0.1111111111111111,
             "#46039f"
            ],
            [
             0.2222222222222222,
             "#7201a8"
            ],
            [
             0.3333333333333333,
             "#9c179e"
            ],
            [
             0.4444444444444444,
             "#bd3786"
            ],
            [
             0.5555555555555556,
             "#d8576b"
            ],
            [
             0.6666666666666666,
             "#ed7953"
            ],
            [
             0.7777777777777778,
             "#fb9f3a"
            ],
            [
             0.8888888888888888,
             "#fdca26"
            ],
            [
             1,
             "#f0f921"
            ]
           ]
          },
          "colorway": [
           "#636efa",
           "#EF553B",
           "#00cc96",
           "#ab63fa",
           "#FFA15A",
           "#19d3f3",
           "#FF6692",
           "#B6E880",
           "#FF97FF",
           "#FECB52"
          ],
          "font": {
           "color": "#2a3f5f"
          },
          "geo": {
           "bgcolor": "white",
           "lakecolor": "white",
           "landcolor": "#E5ECF6",
           "showlakes": true,
           "showland": true,
           "subunitcolor": "white"
          },
          "hoverlabel": {
           "align": "left"
          },
          "hovermode": "closest",
          "mapbox": {
           "style": "light"
          },
          "paper_bgcolor": "white",
          "plot_bgcolor": "#E5ECF6",
          "polar": {
           "angularaxis": {
            "gridcolor": "white",
            "linecolor": "white",
            "ticks": ""
           },
           "bgcolor": "#E5ECF6",
           "radialaxis": {
            "gridcolor": "white",
            "linecolor": "white",
            "ticks": ""
           }
          },
          "scene": {
           "xaxis": {
            "backgroundcolor": "#E5ECF6",
            "gridcolor": "white",
            "gridwidth": 2,
            "linecolor": "white",
            "showbackground": true,
            "ticks": "",
            "zerolinecolor": "white"
           },
           "yaxis": {
            "backgroundcolor": "#E5ECF6",
            "gridcolor": "white",
            "gridwidth": 2,
            "linecolor": "white",
            "showbackground": true,
            "ticks": "",
            "zerolinecolor": "white"
           },
           "zaxis": {
            "backgroundcolor": "#E5ECF6",
            "gridcolor": "white",
            "gridwidth": 2,
            "linecolor": "white",
            "showbackground": true,
            "ticks": "",
            "zerolinecolor": "white"
           }
          },
          "shapedefaults": {
           "line": {
            "color": "#2a3f5f"
           }
          },
          "ternary": {
           "aaxis": {
            "gridcolor": "white",
            "linecolor": "white",
            "ticks": ""
           },
           "baxis": {
            "gridcolor": "white",
            "linecolor": "white",
            "ticks": ""
           },
           "bgcolor": "#E5ECF6",
           "caxis": {
            "gridcolor": "white",
            "linecolor": "white",
            "ticks": ""
           }
          },
          "title": {
           "x": 0.05
          },
          "xaxis": {
           "automargin": true,
           "gridcolor": "white",
           "linecolor": "white",
           "ticks": "",
           "title": {
            "standoff": 15
           },
           "zerolinecolor": "white",
           "zerolinewidth": 2
          },
          "yaxis": {
           "automargin": true,
           "gridcolor": "white",
           "linecolor": "white",
           "ticks": "",
           "title": {
            "standoff": 15
           },
           "zerolinecolor": "white",
           "zerolinewidth": 2
          }
         }
        },
        "title": {
         "text": "RNN Prediction vs Input and Accurate"
        },
        "xaxis": {
         "title": {
          "text": "Time"
         }
        },
        "yaxis": {
         "title": {
          "text": "Heart Rate"
         }
        }
       }
      }
     },
     "metadata": {},
     "output_type": "display_data"
    }
   ],
   "source": [
    "# Plot predictions using plotly\n",
    "\n",
    "\n",
    "fig = go.Figure()\n",
    "fig.add_trace(\n",
    "    go.Scatter(\n",
    "        y=hr_noisy * hr_accurate_std + hr_accurate_mean,\n",
    "        mode=\"lines\",\n",
    "        name=\"Input\",\n",
    "        opacity=0.3,\n",
    "    )\n",
    ")\n",
    "fig.add_trace(\n",
    "    go.Scatter(\n",
    "        y=np.array(hr_pred) * hr_accurate_std + hr_accurate_mean,\n",
    "        mode=\"lines\",\n",
    "        name=\"Predicted\",\n",
    "    )\n",
    ")\n",
    "fig.add_trace(\n",
    "    go.Scatter(\n",
    "        y=hr_accurate * hr_accurate_std + hr_accurate_mean,\n",
    "        mode=\"lines\",\n",
    "        name=\"Accurate\",\n",
    "    )\n",
    ")\n",
    "fig.update_layout(\n",
    "    title=\"RNN Prediction vs Input and Accurate\",\n",
    "    xaxis_title=\"Time\",\n",
    "    yaxis_title=\"Heart Rate\",\n",
    ")\n",
    "fig.show()"
   ]
  },
  {
   "cell_type": "code",
   "execution_count": null,
   "id": "2bd99fa7",
   "metadata": {},
   "outputs": [],
   "source": []
  }
 ],
 "metadata": {
  "kernelspec": {
   "display_name": "inf-1600-intro-ai",
   "language": "python",
   "name": "python3"
  },
  "language_info": {
   "codemirror_mode": {
    "name": "ipython",
    "version": 3
   },
   "file_extension": ".py",
   "mimetype": "text/x-python",
   "name": "python",
   "nbconvert_exporter": "python",
   "pygments_lexer": "ipython3",
   "version": "3.13.7"
  }
 },
 "nbformat": 4,
 "nbformat_minor": 5
}
